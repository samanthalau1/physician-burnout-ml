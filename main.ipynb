{
 "cells": [
  {
   "cell_type": "code",
   "execution_count": null,
   "id": "5d4d908b",
   "metadata": {},
   "outputs": [],
   "source": [
    "# import libraries and data\n",
    "import pandas as pd\n",
    "import seaborn as sns\n",
    "import matplotlib.pyplot as pyplot\n",
    "import numpy as np\n",
    "from sklearn.model_selection import train_test_split\n",
    "import re\n",
    "\n",
    "file_path = r'C:\\Users\\saman\\physician-burnout-ml\\Physician Burnout Survey.xlsx'\n",
    "data = pd.read_excel(file_path)"
   ]
  },
  {
   "cell_type": "code",
   "execution_count": 16,
   "id": "deb5a6af",
   "metadata": {},
   "outputs": [],
   "source": [
    "# remove unecessary data\n",
    "clean_data = data.drop(columns=['Respondent ID', 'Collector ID', 'Start Date', 'End Date', 'IP Address', 'Email Address', \n",
    "                                'First Name', 'Last Name', 'Custom Data 1'])\n",
    "clean_data = clean_data.drop(index=0, axis=0)\n",
    "\n",
    "# renaming and splitting columns\n",
    "clean_data.columns=['Age', 'Gender', 'Specialty', 'Practice Type', 'Practice Size', 'New Patients', 'Years Worked',\n",
    "                      'Patient Hours', 'EHR Hours', 'Admin Hours', 'Income Change', 'Burnout Level']\n",
    "Y = clean_data[['Burnout Level']].copy()\n",
    "X = clean_data.drop(columns=['Burnout Level'])"
   ]
  },
  {
   "cell_type": "code",
   "execution_count": null,
   "id": "714a33c4",
   "metadata": {},
   "outputs": [],
   "source": [
    "# more data cleaning by column\n",
    "\n",
    "# remove words from burnout column\n"
   ]
  }
 ],
 "metadata": {
  "kernelspec": {
   "display_name": "Python 3",
   "language": "python",
   "name": "python3"
  },
  "language_info": {
   "codemirror_mode": {
    "name": "ipython",
    "version": 3
   },
   "file_extension": ".py",
   "mimetype": "text/x-python",
   "name": "python",
   "nbconvert_exporter": "python",
   "pygments_lexer": "ipython3",
   "version": "3.11.9"
  }
 },
 "nbformat": 4,
 "nbformat_minor": 5
}
